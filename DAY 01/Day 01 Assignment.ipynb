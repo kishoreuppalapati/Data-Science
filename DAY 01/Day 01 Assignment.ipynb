{
 "cells": [
  {
   "cell_type": "code",
   "execution_count": null,
   "metadata": {},
   "outputs": [],
   "source": [
    "#Questions 2:\n",
    "#Write a program which prints “LETS UPGRADE”. (Please note that you have to\n",
    "#print in ALL CAPS as given)\n",
    "\n",
    "user_input = \"Lets Upgrade\"\n",
    "print(\"The out put is \",user_input.upper())"
   ]
  },
  {
   "cell_type": "code",
   "execution_count": 3,
   "metadata": {},
   "outputs": [
    {
     "name": "stdout",
     "output_type": "stream",
     "text": [
      "The out put :  LETS UPGRADE\n"
     ]
    }
   ],
   "source": [
    "#Questions 2:\n",
    "#Write a program which prints “LETS UPGRADE”. (Please note that you have to\n",
    "#print in ALL CAPS as given)\n",
    "\n",
    "input = \"Lets Upgrade\"\n",
    "print(\"The out put : \",input.upper())"
   ]
  },
  {
   "cell_type": "code",
   "execution_count": 4,
   "metadata": {},
   "outputs": [
    {
     "name": "stdout",
     "output_type": "stream",
     "text": [
      " Please Enter the  cost price: 23\n",
      " Please Enter the selling price: 40\n",
      "The Transaction is Profit.\n"
     ]
    }
   ],
   "source": [
    "cost_price = int(input(\" Please Enter the  cost price: \"))\n",
    "selling_price = int(input(\" Please Enter the selling price: \"))\n",
    " \n",
    "if(cost_price > selling_price):\n",
    "    amount = cost_price - selling_price\n",
    "    print(\"The Transaction is Loss\")\n",
    "elif(selling_price > cost_price):\n",
    "    amount = selling_price - cost_price\n",
    "    print(\"The Transaction is Profit.\")\n",
    "else:\n",
    "    print(\"Neither\")"
   ]
  },
  {
   "cell_type": "code",
   "execution_count": 5,
   "metadata": {},
   "outputs": [
    {
     "name": "stdout",
     "output_type": "stream",
     "text": [
      "45\n",
      "30\n",
      "Loss\n"
     ]
    }
   ],
   "source": [
    "#Questions 4:\n",
    "#Write a program that takes cost price and selling price as input and displays whether the transaction is a\n",
    "#Profit or a Loss or Neither\n",
    "cost_price = int(input())\n",
    "selling_price = int(input())\n",
    " \n",
    "if(cost_price > selling_price):\n",
    "    amount = cost_price - selling_price\n",
    "    print(\"Loss\")\n",
    "elif(selling_price > cost_price):\n",
    "    amount = selling_price - cost_price\n",
    "    print(\"Profit\")\n",
    "else:\n",
    "    print(\"Neither\")"
   ]
  },
  {
   "cell_type": "code",
   "execution_count": 7,
   "metadata": {},
   "outputs": [
    {
     "name": "stdout",
     "output_type": "stream",
     "text": [
      "30\n",
      "2400\n"
     ]
    }
   ],
   "source": [
    "#Questions 5:\n",
    "#Write a program that takes an amount in Indian Rupees as input. You need to find its equivalent\n",
    "#in Euro and display it. Assume 1 Euro equals Rs. 80.\n",
    "\n",
    "indian_rupees=int(input())\n",
    "euro=80*indian_rupees\n",
    "print(euro)"
   ]
  },
  {
   "cell_type": "code",
   "execution_count": null,
   "metadata": {},
   "outputs": [],
   "source": []
  }
 ],
 "metadata": {
  "kernelspec": {
   "display_name": "Python 3",
   "language": "python",
   "name": "python3"
  },
  "language_info": {
   "codemirror_mode": {
    "name": "ipython",
    "version": 3
   },
   "file_extension": ".py",
   "mimetype": "text/x-python",
   "name": "python",
   "nbconvert_exporter": "python",
   "pygments_lexer": "ipython3",
   "version": "3.7.6"
  },
  "toc": {
   "base_numbering": 1,
   "nav_menu": {},
   "number_sections": true,
   "sideBar": true,
   "skip_h1_title": false,
   "title_cell": "Table of Contents",
   "title_sidebar": "Contents",
   "toc_cell": false,
   "toc_position": {},
   "toc_section_display": true,
   "toc_window_display": false
  }
 },
 "nbformat": 4,
 "nbformat_minor": 4
}
