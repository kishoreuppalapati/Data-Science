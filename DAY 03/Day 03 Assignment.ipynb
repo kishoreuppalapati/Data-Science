{
 "cells": [
  {
   "cell_type": "raw",
   "metadata": {},
   "source": [
    "Questions 1:\n",
    "Create a numpy array starting from 2 till 50 with a stepsize of 3."
   ]
  },
  {
   "cell_type": "code",
   "execution_count": 1,
   "metadata": {},
   "outputs": [
    {
     "name": "stdout",
     "output_type": "stream",
     "text": [
      "[ 2  5  8 11 14 17 20 23 26 29 32 35 38 41 44 47 50]\n"
     ]
    }
   ],
   "source": [
    "\n",
    "import numpy as np\n",
    "arr = np.arange(2,51,3)\n",
    "print(arr)"
   ]
  },
  {
   "cell_type": "raw",
   "metadata": {},
   "source": [
    "Questions 2:\n",
    "Accept two lists of 5 elements each from the user.\n",
    "Convert them to numpy arrays. Concatenate these arrays and print it. Also sort these arrays and print it."
   ]
  },
  {
   "cell_type": "code",
   "execution_count": 14,
   "metadata": {},
   "outputs": [
    {
     "name": "stdout",
     "output_type": "stream",
     "text": [
      "1 2 5 6 7\n",
      "8 4 3 2 1\n",
      "Concatenated array is: [1 2 5 6 7 8 4 3 2 1]\n",
      "sorted array is : [1 1 2 2 3 4 5 6 7 8]\n"
     ]
    }
   ],
   "source": [
    "\n",
    "arr1,arr2 = (list(map(int,input().split())) for i in range(2))\n",
    "arr1 = np.array(arr1)\n",
    "arr2 = np.array(arr2)\n",
    "print(\"Concatenated array is:\",np.concatenate((arr1,arr2)))\n",
    "print(\"sorted array is :\",np.sort(np.concatenate((arr1,arr2))))"
   ]
  },
  {
   "cell_type": "markdown",
   "metadata": {},
   "source": [
    "Questions 3:\n",
    "Write a code snippet to find the dimensions of a ndarray and its size."
   ]
  },
  {
   "cell_type": "code",
   "execution_count": 6,
   "metadata": {},
   "outputs": [
    {
     "name": "stdout",
     "output_type": "stream",
     "text": [
      "dimensions : (3, 3) \n",
      " size 9\n"
     ]
    }
   ],
   "source": [
    "\n",
    "arr = np.array([ [1,2,3] , [4,5,6] , [7,8,9] ])\n",
    "print(\"dimensions :\",arr.shape,\"\\n size\",arr.size)"
   ]
  },
  {
   "cell_type": "raw",
   "metadata": {},
   "source": [
    "Questions 4:\n",
    "How to convert a 1D array into a 2D array? Demonstrate with the help of a code snippet\n",
    "Hint: np.newaxis, np.expand_dims"
   ]
  },
  {
   "cell_type": "code",
   "execution_count": 15,
   "metadata": {},
   "outputs": [
    {
     "name": "stdout",
     "output_type": "stream",
     "text": [
      "1D array shape is:  (2,)\n",
      "After converting a 1D array into a 2D array the shape is : (1, 2)\n"
     ]
    }
   ],
   "source": [
    "a = np.array([2, 4])\n",
    "print(\"1D array shape is: \",a.shape)\n",
    "b = np.expand_dims(a, axis=0)\n",
    "print(\"After converting a 1D array into a 2D array the shape is :\",b.shape)"
   ]
  },
  {
   "cell_type": "raw",
   "metadata": {},
   "source": [
    "Questions 5:\n",
    "Consider two square numpy arrays. Stack them vertically and horizontally.\n",
    "Hint: Use vstack(), hstack()"
   ]
  },
  {
   "cell_type": "code",
   "execution_count": 13,
   "metadata": {},
   "outputs": [
    {
     "name": "stdout",
     "output_type": "stream",
     "text": [
      "Squared Array:\n",
      " [1 4 9]\n",
      "Squared Array1:\n",
      " [16 25 36]\n",
      "Horizontal Append: [ 1  4  9 16 25 36]\n",
      "Vertical Append: [[ 1  4  9]\n",
      " [16 25 36]]\n"
     ]
    }
   ],
   "source": [
    "import numpy as np\n",
    "\n",
    "array_2d_square = np.square([1,2,3])\n",
    "\n",
    "print(\"Squared Array:\\n\",array_2d_square)\n",
    "\n",
    "array_2d_square1 = np.square([4,5,6])\n",
    "\n",
    "print(\"Squared Array1:\\n\",array_2d_square1)\n",
    "\n",
    "print('Horizontal Append:', np.hstack((array_2d_square, array_2d_square1)))\n",
    "\n",
    "print('Vertical Append:', np.vstack((array_2d_square, array_2d_square1)))"
   ]
  },
  {
   "cell_type": "raw",
   "metadata": {},
   "source": [
    "Questions 6:\n",
    "How to get unique items and counts of unique items?"
   ]
  },
  {
   "cell_type": "code",
   "execution_count": 12,
   "metadata": {},
   "outputs": [
    {
     "name": "stdout",
     "output_type": "stream",
     "text": [
      "[2, 4, 6, 7, 8, 9]\n",
      "6\n"
     ]
    }
   ],
   "source": [
    "list1 = [4,6,7,2,8,9]\n",
    "list1 = list(set(list1))\n",
    "print(list1)\n",
    "print(len(list1))"
   ]
  },
  {
   "cell_type": "code",
   "execution_count": null,
   "metadata": {},
   "outputs": [],
   "source": []
  }
 ],
 "metadata": {
  "kernelspec": {
   "display_name": "Python 3",
   "language": "python",
   "name": "python3"
  },
  "language_info": {
   "codemirror_mode": {
    "name": "ipython",
    "version": 3
   },
   "file_extension": ".py",
   "mimetype": "text/x-python",
   "name": "python",
   "nbconvert_exporter": "python",
   "pygments_lexer": "ipython3",
   "version": "3.7.6"
  },
  "toc": {
   "base_numbering": 1,
   "nav_menu": {},
   "number_sections": true,
   "sideBar": true,
   "skip_h1_title": false,
   "title_cell": "Table of Contents",
   "title_sidebar": "Contents",
   "toc_cell": false,
   "toc_position": {},
   "toc_section_display": true,
   "toc_window_display": false
  }
 },
 "nbformat": 4,
 "nbformat_minor": 4
}
